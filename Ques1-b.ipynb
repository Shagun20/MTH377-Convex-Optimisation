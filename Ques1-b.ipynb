{
 "cells": [
  {
   "cell_type": "code",
   "execution_count": 2,
   "id": "d7c92f1d",
   "metadata": {},
   "outputs": [],
   "source": [
    "import numpy as np\n",
    "import matplotlib\n",
    "import matplotlib.pyplot as plt\n",
    "from sympy import * "
   ]
  },
  {
   "cell_type": "code",
   "execution_count": 3,
   "id": "8836d6e6",
   "metadata": {},
   "outputs": [],
   "source": [
    "def f(x1,y1):\n",
    "    return 3*(x1)**2 + y1**4"
   ]
  },
  {
   "cell_type": "code",
   "execution_count": 15,
   "id": "ccbce90e",
   "metadata": {},
   "outputs": [],
   "source": [
    "#backtrack algo\n",
    "def calc_step_size(descent_dir, start, alpha, beta):\n",
    "    \n",
    "    t = 1\n",
    "    print(\"t: \",t)\n",
    "    x = np.copy(start)\n",
    "    a=x[0]\n",
    "    b=x[1]\n",
    "    dx=descent_dir(x)\n",
    "    \n",
    "    while f(a+t*dx[0],b+t*dx[1]) > f(a,b) + alpha * t * np.dot(-descent_dir(x), dx):\n",
    "        \n",
    "        t*=beta\n",
    "        print(\"t: \",t)\n",
    "        \n",
    "    return t"
   ]
  },
  {
   "cell_type": "code",
   "execution_count": 16,
   "id": "8160c00f",
   "metadata": {},
   "outputs": [],
   "source": [
    "from numpy import linalg as LA\n",
    "#gradient descent algo\n",
    "def gradient_descent(\n",
    "    descent, start, n, stopping_point=1e-08\n",
    "):\n",
    "    vector = start\n",
    "    \n",
    "    for _ in range(n):\n",
    "        \n",
    "        descent_dir=lambda v: np.array([-6* v[0], -4 * v[1]**3])\n",
    "        #calc gradient vector\n",
    "        d = calc_step_size(descent_dir,start=vector, alpha=0.1, beta=0.1)* (descent_dir(vector))\n",
    "         #find step size using backtracking\n",
    "            \n",
    "        if LA.norm(descent_dir(vector))<= stopping_point:\n",
    "            break\n",
    "       \n",
    "        \n",
    "        vector += d\n",
    "    return vector"
   ]
  },
  {
   "cell_type": "code",
   "execution_count": 17,
   "id": "77246413",
   "metadata": {},
   "outputs": [
    {
     "name": "stdout",
     "output_type": "stream",
     "text": [
      "Initial Point:  [ 1. -2.]\n",
      "t:  1\n",
      "t:  0.1\n",
      "Final Point:  [0.4 1.2]\n",
      " No of iterations:  1\n",
      "Function Value at Optimal Point:  2.5536\n",
      "alpha:  0.1 beta:  0.1 epsilon: 1e-08\n"
     ]
    }
   ],
   "source": [
    "i=np.array([1.0, -2.0])\n",
    "print(\"Initial Point: \",i)\n",
    "print(\"Final Point: \",gradient_descent(\n",
    "  descent=lambda v: np.array([-6* v[0], -4 * v[1]**3]), start=np.array([1.0, -2.0]),n=1,stopping_point=1e-08))\n",
    "print(\" No of iterations: \",1)\n",
    "print(\"Function Value at Optimal Point: \", f(0.4, 1.2))\n",
    "print(\"alpha: \",0.1,\"beta: \",0.1, \"epsilon:\", 1e-08 )"
   ]
  },
  {
   "cell_type": "code",
   "execution_count": null,
   "id": "d3bdb727",
   "metadata": {},
   "outputs": [],
   "source": []
  }
 ],
 "metadata": {
  "kernelspec": {
   "display_name": "Python 3 (ipykernel)",
   "language": "python",
   "name": "python3"
  },
  "language_info": {
   "codemirror_mode": {
    "name": "ipython",
    "version": 3
   },
   "file_extension": ".py",
   "mimetype": "text/x-python",
   "name": "python",
   "nbconvert_exporter": "python",
   "pygments_lexer": "ipython3",
   "version": "3.9.7"
  }
 },
 "nbformat": 4,
 "nbformat_minor": 5
}
