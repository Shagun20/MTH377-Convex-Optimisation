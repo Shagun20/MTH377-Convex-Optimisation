{
 "cells": [
  {
   "cell_type": "code",
   "execution_count": 12,
   "id": "d7c92f1d",
   "metadata": {},
   "outputs": [],
   "source": [
    "import numpy as np\n",
    "import matplotlib\n",
    "import matplotlib.pyplot as plt\n",
    "from sympy import * "
   ]
  },
  {
   "cell_type": "code",
   "execution_count": 13,
   "id": "8836d6e6",
   "metadata": {},
   "outputs": [],
   "source": [
    "def f(x1,y1):\n",
    "    return 3*(x1)**2 + y1**4"
   ]
  },
  {
   "cell_type": "code",
   "execution_count": 18,
   "id": "ccbce90e",
   "metadata": {},
   "outputs": [],
   "source": [
    "def calc_step_size(gradient_dir, descent_dir,start, alpha, beta):\n",
    "    \n",
    "    t = 1\n",
    "    \n",
    "    x = np.copy(start)\n",
    "    a=x[0]\n",
    "    b=x[1]\n",
    "    dx=descent_dir\n",
    "    print(\"t: \",t)\n",
    "    while f(a+t*dx[0],b+t*dx[1]) > f(a,b) + alpha * t * np.dot(gradient_dir(x), dx):\n",
    "        \n",
    "        t*=beta\n",
    "        print(\"t: \", t)\n",
    "        \n",
    "    return t"
   ]
  },
  {
   "cell_type": "code",
   "execution_count": 31,
   "id": "8160c00f",
   "metadata": {},
   "outputs": [],
   "source": [
    "\n",
    "def jacobian(x):\n",
    "    #6*x 4*y**3 \n",
    "    return np.array([6*x[0], 4*x[1]**3])\n",
    "\n",
    "def hessian(x):\n",
    "    #return array([[.2,0],[0,1]])\n",
    "    return np.array([[6,0],[0, 12*x[1]**2]])\n",
    "\n",
    "def calc_dir(x):\n",
    "    dx=-np.dot(np.linalg.inv(hessian(x)),jacobian(x))\n",
    "#     print(\"hessian\", hessian(x))\n",
    "#     print(\"hessian inverse\", np.linalg.inv(hessian(x)))\n",
    "#     print(\"jacobian\", jacobian(x))\n",
    "    return dx\n",
    "\n",
    "def Newton(x0):\n",
    "\n",
    "    i = 0\n",
    "    iMax = 1\n",
    "    x = x0\n",
    "\n",
    "    \n",
    "    while i<iMax :\n",
    "        p = calc_dir(x)\n",
    "       \n",
    "        stopp=np.dot(-jacobian(x),p)\n",
    "       \n",
    "        if stopp<=1e-08:\n",
    "            break\n",
    "        \n",
    "        t=calc_step_size(gradient_dir=lambda v: np.array([6* v[0], 4 * v[1]**3]),descent_dir=p,start=x, alpha=0.1, beta=0.5)\n",
    "        \n",
    "        x = x + t*p\n",
    "       \n",
    "        i+=1\n",
    "    print(\"No of iterations:\" , i)\n",
    "    return x \n",
    "\n"
   ]
  },
  {
   "cell_type": "code",
   "execution_count": 32,
   "id": "77246413",
   "metadata": {},
   "outputs": [
    {
     "name": "stdout",
     "output_type": "stream",
     "text": [
      "Initial Point:  [ 1 -2]\n",
      "t:  1\n",
      "No of iterations: 1\n",
      "Final Point:  [ 0.         -1.33333333]\n",
      "Function Value at Updated Point:  3.1604935111111234\n",
      "alpha:  0.1 beta:  0.5 epsilon: 1e-08\n"
     ]
    }
   ],
   "source": [
    "x = np.array([1,-2])\n",
    "print(\"Initial Point: \",x)\n",
    "print(\"Final Point: \",Newton(x))\n",
    "print(\"Function Value at Updated Point: \", f(0,-1.3333333))\n",
    "print(\"alpha: \",0.1,\"beta: \",0.5, \"epsilon:\", 1e-08 )\n"
   ]
  },
  {
   "cell_type": "code",
   "execution_count": null,
   "id": "d3bdb727",
   "metadata": {},
   "outputs": [],
   "source": []
  }
 ],
 "metadata": {
  "kernelspec": {
   "display_name": "Python 3 (ipykernel)",
   "language": "python",
   "name": "python3"
  },
  "language_info": {
   "codemirror_mode": {
    "name": "ipython",
    "version": 3
   },
   "file_extension": ".py",
   "mimetype": "text/x-python",
   "name": "python",
   "nbconvert_exporter": "python",
   "pygments_lexer": "ipython3",
   "version": "3.9.7"
  }
 },
 "nbformat": 4,
 "nbformat_minor": 5
}
