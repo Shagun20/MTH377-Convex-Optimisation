{
 "cells": [
  {
   "cell_type": "code",
   "execution_count": 55,
   "id": "2ace66ed",
   "metadata": {},
   "outputs": [],
   "source": [
    "import numpy as np\n",
    "import matplotlib\n",
    "import matplotlib.pyplot as plt\n",
    "from sympy import * \n",
    "import math\n",
    "\n",
    "def jacobian(x):\n",
    "    #6*x 4*y**3 \n",
    "    return np.array([math.exp(x[0]),4*x[1],6*x[2] ])"
   ]
  },
  {
   "cell_type": "code",
   "execution_count": 56,
   "id": "c66c33b0",
   "metadata": {},
   "outputs": [],
   "source": [
    "def f(x1,y1,z1):\n",
    "    return math.exp(x1)+ 2*y1**2 +3*z1**2"
   ]
  },
  {
   "cell_type": "code",
   "execution_count": 57,
   "id": "28ffe8f1",
   "metadata": {},
   "outputs": [],
   "source": [
    "def calc_step_size(gradient_dir, descent_dir,start, alpha, beta):\n",
    "    \n",
    "    t = 1\n",
    "    \n",
    "    x = np.copy(start)\n",
    "    a=x[0]\n",
    "    b=x[1]\n",
    "    c=x[2]\n",
    "    dx=np.array([descent_dir[0],descent_dir[1],descent_dir[2]])\n",
    "   \n",
    "    while (f(a+t*dx[0],b+t*dx[1], c+t*dx[2])) > f(a,b,c )+  alpha * t *np.dot(gradient_dir(x), dx):\n",
    "         t*=beta \n",
    "\n",
    "        \n",
    "    return t"
   ]
  },
  {
   "cell_type": "code",
   "execution_count": 58,
   "id": "eb0dbe71",
   "metadata": {},
   "outputs": [],
   "source": [
    "\n",
    "def hessian(x):\n",
    "    #return array([[.2,0],[0,1]])\n",
    "    return np.array([[math.exp(x[0]),0,0],[0,4,0],[0,0,6]])\n",
    "\n",
    "def calc_dir(x):\n",
    "    A1= np.array([[1,0,-5],[0, 1,1]])\n",
    "    # A is the coefficient matrix for our equations\n",
    "    A=np.array([[math.exp(x[0]), 0,0,1,0],[0,4,0,0,1],[0,0,6,-5,1],[1,0,-5,0,0],[0,1,1,0,0]])\n",
    "    B=np.array([-math.exp(x[0]),-4*x[1],-6*x[2],0,0])\n",
    "    x1=np.linalg.solve(A,B)\n",
    "    x2= np.array([x1[0],x1[1],x1[2]])\n",
    "\n",
    "    \n",
    "    return x2\n"
   ]
  },
  {
   "cell_type": "code",
   "execution_count": 76,
   "id": "3e92eb48",
   "metadata": {},
   "outputs": [],
   "source": [
    "import numpy.linalg as la\n",
    "def Newton(x0):\n",
    "    print(\"alpha: \", 0.1, \" beta: \", 0.1, \"epsilon: \",1e-08, \" \")    \n",
    "\n",
    "    i = 0\n",
    "    \n",
    "    x = x0\n",
    "\n",
    "    count =0\n",
    "    while i==0:\n",
    "         p = calc_dir(x)\n",
    "         \n",
    "         stopp=np.dot(-jacobian(x),p)/2\n",
    "#         print(stopp)\n",
    "         if stopp<=1e-08:\n",
    "            break\n",
    "        \n",
    "       \n",
    "         t=calc_step_size(gradient_dir=lambda v: np.array([math.exp(v[0]),4*v[1],6*v[2]]),descent_dir=p,start=x, alpha=0.1, beta=0.1)\n",
    "         print(\"Value of t at \",count+1,\"iteration : \", t)\n",
    "        \n",
    "         print(\"Descent direction at \",count+1,\"iteration : \", p)\n",
    "         \n",
    "         x=x+t*p\n",
    "       \n",
    "         count+=1\n",
    "        \n",
    "   \n",
    "    print(\"No of iterations: \", count) \n",
    "    \n",
    "    return x "
   ]
  },
  {
   "cell_type": "code",
   "execution_count": 77,
   "id": "f220b7fa",
   "metadata": {},
   "outputs": [],
   "source": [
    "def calc_dual(x):\n",
    "    A1= np.array([[1,0,-5],[0, 1,1]])\n",
    "    # A is the coefficient matrix for our equations\n",
    "    A=np.array([[math.exp(x[0]), 0,0,1,0],[0,4,0,0,1],[0,0,6,-5,1],[1,0,-5,0,0],[0,1,1,0,0]])\n",
    "    B=np.array([-math.exp(x[0]),-4*x[1],-6*x[2],0,0])\n",
    "    x1=np.linalg.solve(A,B)\n",
    "    x2= np.array([x1[3],x1[4]])\n",
    "\n",
    "    \n",
    "    return x2"
   ]
  },
  {
   "cell_type": "code",
   "execution_count": 78,
   "id": "5c391730",
   "metadata": {},
   "outputs": [
    {
     "name": "stdout",
     "output_type": "stream",
     "text": [
      "Initial Point:  [1 4 0]\n",
      "alpha:  0.1  beta:  0.1 epsilon:  1e-08  \n",
      "Value of t at  1 iteration :  1\n",
      "Descent direction at  1 iteration :  [ 0.15448192 -0.03089638  0.03089638]\n",
      "Value of t at  2 iteration :  1\n",
      "Descent direction at  2 iteration :  [-0.00956568  0.00191314 -0.00191314]\n",
      "No of iterations:  2\n",
      "Optimal Point:  [1.14491625 3.97101675 0.02898325]\n",
      "Function value at Optimal Point:  34.68264633229826\n",
      "The Optimal dual variables:  [ -3.14204984 -15.88409968]\n"
     ]
    }
   ],
   "source": [
    "x1=np.array([1,4,0])\n",
    "print(\"Initial Point: \", x1)\n",
    "p1=Newton(x1)\n",
    "print(\"Optimal Point: \" , p1)\n",
    "print(\"Function value at Optimal Point: \", f(p1[0],p1[1],p1[2]))\n",
    "# Optimal Dual Variables\n",
    "x_opt=np.array([1.14491625 , 3.97101675 , 0.02898325])\n",
    "print(\"The Optimal dual variables: \", calc_dual(x_opt))"
   ]
  },
  {
   "cell_type": "code",
   "execution_count": null,
   "id": "f789467d",
   "metadata": {},
   "outputs": [],
   "source": []
  }
 ],
 "metadata": {
  "kernelspec": {
   "display_name": "Python 3 (ipykernel)",
   "language": "python",
   "name": "python3"
  },
  "language_info": {
   "codemirror_mode": {
    "name": "ipython",
    "version": 3
   },
   "file_extension": ".py",
   "mimetype": "text/x-python",
   "name": "python",
   "nbconvert_exporter": "python",
   "pygments_lexer": "ipython3",
   "version": "3.9.7"
  }
 },
 "nbformat": 4,
 "nbformat_minor": 5
}
